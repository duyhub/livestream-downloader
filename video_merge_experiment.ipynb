{
 "cells": [
  {
   "cell_type": "code",
   "execution_count": 48,
   "metadata": {},
   "outputs": [],
   "source": [
    "import os"
   ]
  },
  {
   "cell_type": "code",
   "execution_count": 49,
   "metadata": {},
   "outputs": [
    {
     "name": "stdout",
     "output_type": "stream",
     "text": [
      "['live_20230102-073130.ts', 'live_20230102-073135.ts', 'live_20230102-073140.ts', 'live_20230102-073145.ts', 'live_20230102-073150.ts', 'live_20230102-073155.ts', 'live_20230102-073200.ts', 'live_20230102-073205.ts', 'live_20230102-073210.ts', 'live_20230102-073215.ts']\n",
      "226\n"
     ]
    }
   ],
   "source": [
    "# filename list in the directory\n",
    "dir_list = os.listdir()\n",
    "\n",
    "# Get filename with extention \".ts\"\n",
    "videoname_list = [name for name in dir_list if name[-3:] == '.ts'and name[:4] == 'live'] # and (name[-4] == '5' or name[-4] == '0')]\n",
    "videoname_list = sorted(videoname_list)\n",
    "print(videoname_list[-10:])\n",
    "print(len(videoname_list))\n",
    "\n",
    "# Prepare text file for ffmpeg to concat videos\n",
    "with open('video_list.txt','w') as file:\n",
    "    for name in videoname_list:\n",
    "        file.write(f\"file '{name}'\\n\")\n"
   ]
  },
  {
   "cell_type": "code",
   "execution_count": 50,
   "metadata": {},
   "outputs": [
    {
     "name": "stdout",
     "output_type": "stream",
     "text": [
      "(7, 7) (13, 32) (30, 15)\n",
      "Difference in size between 2 lists: 0\n"
     ]
    }
   ],
   "source": [
    "# Check missing stream's footage from filename's timeframe\n",
    "\n",
    "# reformat filename to get the timeframe\n",
    "tf_list = sorted([name[-9:-3] for name in videoname_list])\n",
    "hr = (int(tf_list[0][:2]),int(tf_list[-1][:2]))\n",
    "mi = (int(tf_list[0][2:4]),int(tf_list[-1][2:4]))\n",
    "sec = (int(tf_list[0][4:]),int(tf_list[-1][4:]))\n",
    "print(hr, mi, sec)\n",
    "\n",
    "# Generate full timeframe which the original list supposed to have\n",
    "gen_tf_list = []\n",
    "h = hr[0]\n",
    "mi_start = mi[0]\n",
    "sec_start = sec[0]\n",
    "check = True\n",
    "while check:\n",
    "    for i in range(mi_start,60):\n",
    "        for j in range(sec_start,60,5):\n",
    "            gen_tf_list.append(f'{h:02d}{i:02d}{j:02d}')\n",
    "            if h == hr[1] and i == mi[1] and j == sec[1]:\n",
    "                check = False\n",
    "                break\n",
    "        if check == False:\n",
    "            break\n",
    "        sec_start = 0\n",
    "    if h == 24:\n",
    "        h = 0\n",
    "    else:\n",
    "        h += 1\n",
    "    mi_start = 0\n",
    "\n",
    "# Compare generate list gen_tf_list with original list to see if there's missing timeframe recorded from the livestream\n",
    "print(f'Difference in size between 2 lists: {len(tf_list)-len(gen_tf_list)}')\n",
    "duplicated_check = [0] * len(gen_tf_list)\n",
    "for i,tf1 in enumerate(gen_tf_list):\n",
    "    for tf2 in tf_list:\n",
    "        if tf1 == tf2:\n",
    "            duplicated_check[i] = 1\n"
   ]
  },
  {
   "attachments": {},
   "cell_type": "markdown",
   "metadata": {},
   "source": [
    "# Missing Data Heatmap"
   ]
  },
  {
   "cell_type": "code",
   "execution_count": 51,
   "metadata": {},
   "outputs": [
    {
     "name": "stdout",
     "output_type": "stream",
     "text": [
      "226\n",
      "225\n"
     ]
    },
    {
     "data": {
      "image/png": "[encoded data removed]",
      "text/plain": [
       "<Figure size 640x480 with 2 Axes>"
      ]
     },
     "metadata": {},
     "output_type": "display_data"
    }
   ],
   "source": [
    "import matplotlib.pyplot as plt\n",
    "import numpy as np\n",
    "import seaborn as sns\n",
    "import math\n",
    "\n",
    "print(len(gen_tf_list))\n",
    "line = int(math.sqrt(len(gen_tf_list)))\n",
    "print(line**2)\n",
    "temp_list = duplicated_check[:line**2]\n",
    "tf_map = np.array(temp_list).reshape(line,line)\n",
    "ax = sns.heatmap(tf_map, linewidth=0.5)\n",
    "plt.show()"
   ]
  },
  {
   "attachments": {},
   "cell_type": "markdown",
   "metadata": {},
   "source": [
    "# Merge using ffmpeg"
   ]
  },
  {
   "cell_type": "code",
   "execution_count": 52,
   "metadata": {},
   "outputs": [
    {
     "name": "stderr",
     "output_type": "stream",
     "text": [
      "ffmpeg version 5.1.2-full_build-www.gyan.dev Copyright (c) 2000-2022 the FFmpeg developers\n",
      "  built with gcc 12.1.0 (Rev2, Built by MSYS2 project)\n",
      "  configuration: --enable-gpl --enable-version3 --enable-static --disable-w32threads --disable-autodetect --enable-fontconfig --enable-iconv --enable-gnutls --enable-libxml2 --enable-gmp --enable-bzlib --enable-lzma --enable-libsnappy --enable-zlib --enable-librist --enable-libsrt --enable-libssh --enable-libzmq --enable-avisynth --enable-libbluray --enable-libcaca --enable-sdl2 --enable-libaribb24 --enable-libdav1d --enable-libdavs2 --enable-libuavs3d --enable-libzvbi --enable-librav1e --enable-libsvtav1 --enable-libwebp --enable-libx264 --enable-libx265 --enable-libxavs2 --enable-libxvid --enable-libaom --enable-libjxl --enable-libopenjpeg --enable-libvpx --enable-mediafoundation --enable-libass --enable-frei0r --enable-libfreetype --enable-libfribidi --enable-liblensfun --enable-libvidstab --enable-libvmaf --enable-libzimg --enable-amf --enable-cuda-llvm --enable-cuvid --enable-ffnvcodec --enable-nvdec --enable-nvenc --enable-d3d11va --enable-dxva2 --enable-libmfx --enable-libshaderc --enable-vulkan --enable-libplacebo --enable-opencl --enable-libcdio --enable-libgme --enable-libmodplug --enable-libopenmpt --enable-libopencore-amrwb --enable-libmp3lame --enable-libshine --enable-libtheora --enable-libtwolame --enable-libvo-amrwbenc --enable-libilbc --enable-libgsm --enable-libopencore-amrnb --enable-libopus --enable-libspeex --enable-libvorbis --enable-ladspa --enable-libbs2b --enable-libflite --enable-libmysofa --enable-librubberband --enable-libsoxr --enable-chromaprint\n",
      "  libavutil      57. 28.100 / 57. 28.100\n",
      "  libavcodec     59. 37.100 / 59. 37.100\n",
      "  libavformat    59. 27.100 / 59. 27.100\n",
      "  libavdevice    59.  7.100 / 59.  7.100\n",
      "  libavfilter     8. 44.100 /  8. 44.100\n",
      "  libswscale      6.  7.100 /  6.  7.100\n",
      "  libswresample   4.  7.100 /  4.  7.100\n",
      "  libpostproc    56.  6.100 / 56.  6.100\n",
      "Input #0, concat, from 'video_list.txt':\n",
      "  Duration: N/A, start: 0.000000, bitrate: 131 kb/s\n",
      "  Stream #0:0: Audio: aac (LC) ([15][0][0][0] / 0x000F), 44100 Hz, stereo, fltp, 131 kb/s\n",
      "  Stream #0:1: Video: h264 (High) ([27][0][0][0] / 0x001B), yuv420p(tv, bt709, progressive), 1920x1080 [SAR 1:1 DAR 16:9], 29.97 fps, 29.97 tbr, 90k tbn\n",
      "Output #0, mpegts, to 'final_clip.ts':\n",
      "  Metadata:\n",
      "    encoder         : Lavf59.27.100\n",
      "  Stream #0:0: Video: h264 (High) ([27][0][0][0] / 0x001B), yuv420p(tv, bt709, progressive), 1920x1080 [SAR 1:1 DAR 16:9], q=2-31, 29.97 fps, 29.97 tbr, 90k tbn\n",
      "  Stream #0:1: Audio: aac (LC) ([15][0][0][0] / 0x000F), 44100 Hz, stereo, fltp, 131 kb/s\n",
      "Stream mapping:\n",
      "  Stream #0:1 -> #0:0 (copy)\n",
      "  Stream #0:0 -> #0:1 (copy)\n",
      "Press [q] to stop, [?] for help\n",
      "frame=    0 fps=0.0 q=-1.0 size=       0kB time=00:00:00.02 bitrate=   0.0kbits/s speed=2.32e+04x    \n",
      "frame= 1348 fps=0.0 q=-1.0 size=    7936kB time=00:00:45.10 bitrate=1441.3kbits/s speed=  89x    \n",
      "frame= 2546 fps=2501 q=-1.0 size=   15872kB time=00:01:25.14 bitrate=1527.1kbits/s speed=83.6x    \n",
      "frame= 4046 fps=2614 q=-1.0 size=   25088kB time=00:02:15.27 bitrate=1519.3kbits/s speed=87.4x    \n",
      "frame= 5244 fps=2559 q=-1.0 size=   33024kB time=00:02:55.31 bitrate=1543.1kbits/s speed=85.6x    \n",
      "frame= 6742 fps=2616 q=-1.0 size=   42240kB time=00:03:45.36 bitrate=1535.4kbits/s speed=87.4x    \n",
      "frame= 8242 fps=2639 q=-1.0 size=   52224kB time=00:04:35.51 bitrate=1552.8kbits/s speed=88.2x    \n",
      "frame= 9740 fps=2669 q=-1.0 size=   62208kB time=00:05:25.57 bitrate=1565.3kbits/s speed=89.2x    \n",
      "frame=11088 fps=2635 q=-1.0 size=   71424kB time=00:06:10.62 bitrate=1578.7kbits/s speed=88.1x    \n",
      "frame=12288 fps=2577 q=-1.0 size=   84992kB time=00:06:50.74 bitrate=1695.1kbits/s speed=86.1x    \n",
      "frame=13486 fps=2548 q=-1.0 size=   97792kB time=00:07:30.78 bitrate=1777.1kbits/s speed=85.2x    \n",
      "frame=14684 fps=2524 q=-1.0 size=  110848kB time=00:08:10.83 bitrate=1850.0kbits/s speed=84.4x    \n",
      "frame=16334 fps=2575 q=-1.0 size=  119808kB time=00:09:05.98 bitrate=1797.6kbits/s speed=86.1x    \n",
      "frame=17832 fps=2594 q=-1.0 size=  129280kB time=00:09:56.04 bitrate=1776.8kbits/s speed=86.7x    \n",
      "frame=19445 fps=2637 q=-1.0 size=  137984kB time=00:10:49.91 bitrate=1739.2kbits/s speed=88.1x    \n",
      "frame=20828 fps=2645 q=-1.0 size=  146176kB time=00:11:36.17 bitrate=1720.1kbits/s speed=88.4x    \n",
      "frame=22476 fps=2677 q=-1.0 size=  156160kB time=00:12:31.25 bitrate=1702.8kbits/s speed=89.5x    \n",
      "frame=24126 fps=2706 q=-1.0 size=  166144kB time=00:13:26.40 bitrate=1687.8kbits/s speed=90.4x    \n",
      "frame=25774 fps=2728 q=-1.0 size=  175360kB time=00:14:21.47 bitrate=1667.5kbits/s speed=91.2x    \n",
      "frame=27422 fps=2746 q=-1.0 size=  184320kB time=00:15:16.56 bitrate=1647.4kbits/s speed=91.8x    \n",
      "frame=29070 fps=2769 q=-1.0 size=  193536kB time=00:16:11.64 bitrate=1631.7kbits/s speed=92.5x    \n",
      "frame=30786 fps=2799 q=-1.0 size=  202240kB time=00:17:09.00 bitrate=1610.1kbits/s speed=93.6x    \n",
      "frame=32516 fps=2821 q=-1.0 size=  209408kB time=00:18:06.82 bitrate=1578.4kbits/s speed=94.3x    \n",
      "[concat @ 000001c04d1922c0] Impossible to open 'live_20230102-073210.ts'\n",
      "video_list.txt: Invalid data found when processing input\n",
      "frame=33566 fps=2844 q=-1.0 Lsize=  214426kB time=00:18:41.87 bitrate=1565.8kbits/s speed=  95x    \n",
      "video:183328kB audio:17830kB subtitle:0kB other streams:0kB global headers:0kB muxing overhead: 6.596535%\n"
     ]
    }
   ],
   "source": [
    "#@markdown  Whether to merge all small clips to a full video \n",
    "merge = True #@param {type:\"boolean\"}\n",
    "if merge:\n",
    "    !ffmpeg -y -f concat -safe 0 -i video_list.txt -c copy final_clip.ts"
   ]
  }
 ],
 "metadata": {
  "kernelspec": {
   "display_name": "Python 3.10.6 ('py310')",
   "language": "python",
   "name": "python3"
  },
  "language_info": {
   "codemirror_mode": {
    "name": "ipython",
    "version": 3
   },
   "file_extension": ".py",
   "mimetype": "text/x-python",
   "name": "python",
   "nbconvert_exporter": "python",
   "pygments_lexer": "ipython3",
   "version": "3.10.6 | packaged by conda-forge | (main, Oct  7 2022, 20:14:50) [MSC v.1916 64 bit (AMD64)]"
  },
  "orig_nbformat": 4,
  "vscode": {
   "interpreter": {
    "hash": "53ac38aa1b3335dcb61f26e45f297a287dca080c98258c22998742d7585e7529"
   }
  }
 },
 "nbformat": 4,
 "nbformat_minor": 2
}
